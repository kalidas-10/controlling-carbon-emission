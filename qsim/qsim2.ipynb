{
 "cells": [
  {
   "cell_type": "code",
   "execution_count": 16,
   "id": "dc527e30",
   "metadata": {},
   "outputs": [],
   "source": [
    "import numpy as np\n",
    "from qiskit import QuantumCircuit, QuantumRegister, Aer\n",
    "from qiskit.quantum_info import Statevector"
   ]
  },
  {
   "cell_type": "code",
   "execution_count": 5,
   "id": "44cedb8a",
   "metadata": {},
   "outputs": [],
   "source": [
    "# Create a quantum register with 3 qubits\n",
    "qr = QuantumRegister(3)"
   ]
  },
  {
   "cell_type": "code",
   "execution_count": 6,
   "id": "ef091029",
   "metadata": {},
   "outputs": [],
   "source": [
    "# Create a quantum circuit\n",
    "qc = QuantumCircuit(qr)"
   ]
  },
  {
   "cell_type": "code",
   "execution_count": 7,
   "id": "056603d0",
   "metadata": {},
   "outputs": [],
   "source": [
    "# Add a Hadamard gate to each qubit\n",
    "for qubit in qr:\n",
    "    qc.h(qubit)"
   ]
  },
  {
   "cell_type": "code",
   "execution_count": 8,
   "id": "3de1a5ad",
   "metadata": {},
   "outputs": [],
   "source": [
    "# Add a CNOT gate between each pair of qubits\n",
    "for i in range(3):\n",
    "    for j in range(i + 1, 3):\n",
    "        qc.cx(qr[i], qr[j])"
   ]
  },
  {
   "cell_type": "code",
   "execution_count": 9,
   "id": "ca430e51",
   "metadata": {},
   "outputs": [],
   "source": [
    "# Define the backend\n",
    "backend = Aer.get_backend('statevector_simulator')\n"
   ]
  },
  {
   "cell_type": "code",
   "execution_count": 10,
   "id": "1edcae8f",
   "metadata": {},
   "outputs": [],
   "source": [
    "\n",
    "# Run the circuit on the backend\n",
    "result = backend.run(qc).result()"
   ]
  },
  {
   "cell_type": "code",
   "execution_count": 18,
   "id": "4a55d1e7",
   "metadata": {},
   "outputs": [
    {
     "ename": "AttributeError",
     "evalue": "Attribute Statevector is not defined",
     "output_type": "error",
     "traceback": [
      "\u001b[1;31m---------------------------------------------------------------------------\u001b[0m",
      "\u001b[1;31mKeyError\u001b[0m                                  Traceback (most recent call last)",
      "File \u001b[1;32m~\\AppData\\Local\\Programs\\Python\\Python311\\Lib\\site-packages\\qiskit\\result\\result.py:115\u001b[0m, in \u001b[0;36mResult.__getattr__\u001b[1;34m(self, name)\u001b[0m\n\u001b[0;32m    114\u001b[0m \u001b[38;5;28;01mtry\u001b[39;00m:\n\u001b[1;32m--> 115\u001b[0m     \u001b[38;5;28;01mreturn\u001b[39;00m \u001b[38;5;28;43mself\u001b[39;49m\u001b[38;5;241;43m.\u001b[39;49m\u001b[43m_metadata\u001b[49m\u001b[43m[\u001b[49m\u001b[43mname\u001b[49m\u001b[43m]\u001b[49m\n\u001b[0;32m    116\u001b[0m \u001b[38;5;28;01mexcept\u001b[39;00m \u001b[38;5;167;01mKeyError\u001b[39;00m \u001b[38;5;28;01mas\u001b[39;00m ex:\n",
      "\u001b[1;31mKeyError\u001b[0m: 'Statevector'",
      "\nThe above exception was the direct cause of the following exception:\n",
      "\u001b[1;31mAttributeError\u001b[0m                            Traceback (most recent call last)",
      "Cell \u001b[1;32mIn[18], line 2\u001b[0m\n\u001b[0;32m      1\u001b[0m \u001b[38;5;66;03m# Get the state vector of the final state\u001b[39;00m\n\u001b[1;32m----> 2\u001b[0m state \u001b[38;5;241m=\u001b[39m \u001b[43mresult\u001b[49m\u001b[38;5;241;43m.\u001b[39;49m\u001b[43mStatevector\u001b[49m()\n",
      "File \u001b[1;32m~\\AppData\\Local\\Programs\\Python\\Python311\\Lib\\site-packages\\qiskit\\result\\result.py:117\u001b[0m, in \u001b[0;36mResult.__getattr__\u001b[1;34m(self, name)\u001b[0m\n\u001b[0;32m    115\u001b[0m     \u001b[38;5;28;01mreturn\u001b[39;00m \u001b[38;5;28mself\u001b[39m\u001b[38;5;241m.\u001b[39m_metadata[name]\n\u001b[0;32m    116\u001b[0m \u001b[38;5;28;01mexcept\u001b[39;00m \u001b[38;5;167;01mKeyError\u001b[39;00m \u001b[38;5;28;01mas\u001b[39;00m ex:\n\u001b[1;32m--> 117\u001b[0m     \u001b[38;5;28;01mraise\u001b[39;00m \u001b[38;5;167;01mAttributeError\u001b[39;00m(\u001b[38;5;124mf\u001b[39m\u001b[38;5;124m\"\u001b[39m\u001b[38;5;124mAttribute \u001b[39m\u001b[38;5;132;01m{\u001b[39;00mname\u001b[38;5;132;01m}\u001b[39;00m\u001b[38;5;124m is not defined\u001b[39m\u001b[38;5;124m\"\u001b[39m) \u001b[38;5;28;01mfrom\u001b[39;00m \u001b[38;5;21;01mex\u001b[39;00m\n",
      "\u001b[1;31mAttributeError\u001b[0m: Attribute Statevector is not defined"
     ]
    }
   ],
   "source": [
    "\n",
    "# Get the state vector of the final state\n",
    "state = result.Statevector()\n"
   ]
  },
  {
   "cell_type": "code",
   "execution_count": null,
   "id": "35587c1f",
   "metadata": {},
   "outputs": [],
   "source": []
  }
 ],
 "metadata": {
  "kernelspec": {
   "display_name": "Python 3 (ipykernel)",
   "language": "python",
   "name": "python3"
  },
  "language_info": {
   "codemirror_mode": {
    "name": "ipython",
    "version": 3
   },
   "file_extension": ".py",
   "mimetype": "text/x-python",
   "name": "python",
   "nbconvert_exporter": "python",
   "pygments_lexer": "ipython3",
   "version": "3.11.3"
  }
 },
 "nbformat": 4,
 "nbformat_minor": 5
}
